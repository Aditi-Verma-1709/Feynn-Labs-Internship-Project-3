{
 "cells": [
  {
   "cell_type": "markdown",
   "id": "51ae4f84",
   "metadata": {},
   "source": [
    "### Importing necessary Libraries"
   ]
  },
  {
   "cell_type": "code",
   "execution_count": 4,
   "id": "463d5933",
   "metadata": {},
   "outputs": [],
   "source": [
    "import pandas as pd\n",
    "import numpy as np\n",
    "from sklearn.model_selection import train_test_split, RandomizedSearchCV\n",
    "from sklearn.preprocessing import StandardScaler \n",
    "from sklearn.ensemble import RandomForestClassifier\n",
    "from sklearn.metrics import accuracy_score\n"
   ]
  },
  {
   "cell_type": "markdown",
   "id": "d9c4460c",
   "metadata": {},
   "source": [
    "### Generating Random Dataset"
   ]
  },
  {
   "cell_type": "code",
   "execution_count": 5,
   "id": "4c3ab5ae",
   "metadata": {},
   "outputs": [],
   "source": [
    "x=np.random.rand(100,10)"
   ]
  },
  {
   "cell_type": "code",
   "execution_count": 6,
   "id": "4026aece",
   "metadata": {},
   "outputs": [],
   "source": [
    "y=np.random.choice([0,1],size=100)"
   ]
  },
  {
   "cell_type": "markdown",
   "id": "3c942476",
   "metadata": {},
   "source": [
    "### Performing Train_test_split"
   ]
  },
  {
   "cell_type": "code",
   "execution_count": 8,
   "id": "00e84c1d",
   "metadata": {},
   "outputs": [],
   "source": [
    "x_train,x_test,y_train,y_test =train_test_split(x,y,train_size=0.8,random_state=34)"
   ]
  },
  {
   "cell_type": "code",
   "execution_count": 10,
   "id": "82516ac2",
   "metadata": {},
   "outputs": [],
   "source": [
    "std=StandardScaler()\n",
    "x_train=std.fit_transform(x_train)\n",
    "x_test=std.fit_transform(x_test)"
   ]
  },
  {
   "cell_type": "code",
   "execution_count": 12,
   "id": "06385257",
   "metadata": {},
   "outputs": [],
   "source": [
    "Random_forest_model=RandomForestClassifier()"
   ]
  },
  {
   "cell_type": "code",
   "execution_count": 21,
   "id": "9b54e41a",
   "metadata": {},
   "outputs": [],
   "source": [
    "params={'n_estimators':[100,200,300],\n",
    "        'max_depth':[5,10,15],\n",
    "        'min_samples_split':[2,5,10],\n",
    "        'min_samples_leaf':[1,2,4]\n",
    "       }\n"
   ]
  },
  {
   "cell_type": "code",
   "execution_count": 22,
   "id": "5aab3af6",
   "metadata": {},
   "outputs": [],
   "source": [
    "random_search=RandomizedSearchCV(Random_forest_model,param_distributions=params,n_iter=10,cv=5,random_state=34)"
   ]
  },
  {
   "cell_type": "code",
   "execution_count": 23,
   "id": "d9e71046",
   "metadata": {},
   "outputs": [
    {
     "data": {
      "text/plain": [
       "RandomizedSearchCV(cv=5, estimator=RandomForestClassifier(),\n",
       "                   param_distributions={'max_depth': [5, 10, 15],\n",
       "                                        'min_samples_leaf': [1, 2, 4],\n",
       "                                        'min_samples_split': [2, 5, 10],\n",
       "                                        'n_estimators': [100, 200, 300]},\n",
       "                   random_state=34)"
      ]
     },
     "execution_count": 23,
     "metadata": {},
     "output_type": "execute_result"
    }
   ],
   "source": [
    "random_search.fit(x_train,y_train)"
   ]
  },
  {
   "cell_type": "code",
   "execution_count": 26,
   "id": "361e1730",
   "metadata": {},
   "outputs": [],
   "source": [
    "best_params=random_search.best_params_"
   ]
  },
  {
   "cell_type": "code",
   "execution_count": 27,
   "id": "34347ab1",
   "metadata": {},
   "outputs": [],
   "source": [
    "model=RandomForestClassifier(**best_params)"
   ]
  },
  {
   "cell_type": "markdown",
   "id": "18514d5a",
   "metadata": {},
   "source": [
    "### Fitting Dataset"
   ]
  },
  {
   "cell_type": "code",
   "execution_count": 29,
   "id": "7e31c017",
   "metadata": {},
   "outputs": [
    {
     "data": {
      "text/plain": [
       "RandomForestClassifier(max_depth=10, min_samples_split=5)"
      ]
     },
     "execution_count": 29,
     "metadata": {},
     "output_type": "execute_result"
    }
   ],
   "source": [
    "model.fit(x_train,y_train)"
   ]
  },
  {
   "cell_type": "markdown",
   "id": "f56b7530",
   "metadata": {},
   "source": [
    "### Predicting"
   ]
  },
  {
   "cell_type": "code",
   "execution_count": 30,
   "id": "da03e38a",
   "metadata": {},
   "outputs": [],
   "source": [
    "y_pred=model.predict(x_test)"
   ]
  },
  {
   "cell_type": "markdown",
   "id": "5cb63966",
   "metadata": {},
   "source": [
    "### Finding Accuracy of the model"
   ]
  },
  {
   "cell_type": "code",
   "execution_count": 33,
   "id": "dca8c7a0",
   "metadata": {},
   "outputs": [
    {
     "name": "stdout",
     "output_type": "stream",
     "text": [
      "Accuracy ; 0.55\n"
     ]
    }
   ],
   "source": [
    "\n",
    "accuracy=accuracy_score(y_test,y_pred)\n",
    "print('Accuracy ;',accuracy)"
   ]
  },
  {
   "cell_type": "code",
   "execution_count": null,
   "id": "5e0f134f",
   "metadata": {},
   "outputs": [],
   "source": []
  }
 ],
 "metadata": {
  "kernelspec": {
   "display_name": "Python 3 (ipykernel)",
   "language": "python",
   "name": "python3"
  },
  "language_info": {
   "codemirror_mode": {
    "name": "ipython",
    "version": 3
   },
   "file_extension": ".py",
   "mimetype": "text/x-python",
   "name": "python",
   "nbconvert_exporter": "python",
   "pygments_lexer": "ipython3",
   "version": "3.9.7"
  }
 },
 "nbformat": 4,
 "nbformat_minor": 5
}
